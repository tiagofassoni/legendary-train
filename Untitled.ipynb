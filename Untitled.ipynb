{
 "cells": [
  {
   "cell_type": "markdown",
   "id": "4d5c5607-9912-4319-8b8c-0d5ab7211613",
   "metadata": {},
   "source": [
    "# Title 1\n",
    "\n",
    "some text.\n",
    "\n",
    "## Title 2\n",
    "\n",
    "some text.\n",
    "\n",
    "### Title 3\n",
    "\n",
    "some text."
   ]
  },
  {
   "cell_type": "code",
   "execution_count": 7,
   "id": "18177a0e-573f-44a3-838c-5d503a5c16e8",
   "metadata": {},
   "outputs": [],
   "source": [
    "listTitles = [\"# Title 1\", \"## Title 2\", \"### Title 3\"]   \n",
    "listPhrases = [\"This is phrase 1.\", \"This is phrase 2.\"] "
   ]
  },
  {
   "cell_type": "code",
   "execution_count": 6,
   "id": "7a7469cb-2307-420f-9cfb-70de2d2c745f",
   "metadata": {},
   "outputs": [
    {
     "name": "stdout",
     "output_type": "stream",
     "text": [
      "# Title 1\n",
      "## Title 2\n",
      "### Title 3\n"
     ]
    }
   ],
   "source": [
    "for item in listTitles:\n",
    "    print(item)\n",
    "    for another_item in listPhrases:\n",
    "        print(another_item)"
   ]
  },
  {
   "cell_type": "code",
   "execution_count": 10,
   "id": "3ba2215b-7182-429c-a8f1-cd595de7992a",
   "metadata": {},
   "outputs": [
    {
     "name": "stdout",
     "output_type": "stream",
     "text": [
      "countPositives should be equal to 4. It is 0\n"
     ]
    }
   ],
   "source": [
    "# Counting positive numbers\n",
    "\n",
    "listOfNumbers = [-1,2,-3,4,34159, 9001, -4]\n",
    "\n",
    "countPositives = 0\n",
    "for item in listOfNumbers:\n",
    "    # FILL THIS PART\n",
    "    pass\n",
    "\n",
    "print(f'countPositives should be equal to 4. It is {countPositives}') "
   ]
  },
  {
   "cell_type": "code",
   "execution_count": 1,
   "id": "507aa948-cacc-47d4-9193-92fb9b0f4c1b",
   "metadata": {},
   "outputs": [
    {
     "data": {
      "text/plain": [
       "4"
      ]
     },
     "execution_count": 1,
     "metadata": {},
     "output_type": "execute_result"
    }
   ],
   "source": [
    "2 + 2"
   ]
  },
  {
   "cell_type": "code",
   "execution_count": 12,
   "id": "273097b1-10cf-4efc-8607-29420ec1b9d6",
   "metadata": {},
   "outputs": [
    {
     "name": "stdout",
     "output_type": "stream",
     "text": [
      "Text\n"
     ]
    }
   ],
   "source": [
    "print(\"text\".capitalize())"
   ]
  },
  {
   "cell_type": "code",
   "execution_count": 13,
   "id": "fa2c54f6-139b-40f0-b5ca-e6c01fd6a78c",
   "metadata": {},
   "outputs": [],
   "source": [
    "new_list = []\n",
    "for elem in  (10, 5, 89, 1354, 14, 78, 12):\n",
    "    new_list.append(float(elem))"
   ]
  },
  {
   "cell_type": "code",
   "execution_count": 14,
   "id": "f1544018-5484-4515-aabf-1bdb2286620d",
   "metadata": {},
   "outputs": [
    {
     "data": {
      "text/plain": [
       "[10.0, 5.0, 89.0, 1354.0, 14.0, 78.0, 12.0]"
      ]
     },
     "execution_count": 14,
     "metadata": {},
     "output_type": "execute_result"
    }
   ],
   "source": [
    "new_list"
   ]
  },
  {
   "cell_type": "code",
   "execution_count": 26,
   "id": "25764163-e85c-43df-bef1-cb9953f89941",
   "metadata": {},
   "outputs": [],
   "source": [
    "test_1 = 15879.36589 + 445698713258964752896.36589745236985"
   ]
  },
  {
   "cell_type": "code",
   "execution_count": 28,
   "id": "ea48af79-b2e9-4202-80e8-947402020d1f",
   "metadata": {},
   "outputs": [],
   "source": [
    "my_var = 445698713258964752896.36589745236985"
   ]
  },
  {
   "cell_type": "code",
   "execution_count": 32,
   "id": "f59ff2e8-6bd1-42ba-9659-e43d7cff4f14",
   "metadata": {},
   "outputs": [
    {
     "data": {
      "text/plain": [
       "'C:\\\\Users\\\\Tiago\\\\Downloads\\\\7a5222485fc80739e801fefff63f40d8numbers-strings.ipynb'"
      ]
     },
     "execution_count": 32,
     "metadata": {},
     "output_type": "execute_result"
    }
   ],
   "source": [
    "import os\n",
    "os.getcwd()\n"
   ]
  },
  {
   "cell_type": "code",
   "execution_count": 29,
   "id": "bb9e58e7-b85e-4110-aca9-ac1e5fd5ae02",
   "metadata": {},
   "outputs": [
    {
     "data": {
      "text/plain": [
       "4.4569871325896475e+20"
      ]
     },
     "execution_count": 29,
     "metadata": {},
     "output_type": "execute_result"
    }
   ],
   "source": [
    "my_var"
   ]
  },
  {
   "cell_type": "code",
   "execution_count": 30,
   "id": "281d6918-215e-4636-a2ed-2838a1306a87",
   "metadata": {},
   "outputs": [],
   "source": [
    "import sys"
   ]
  },
  {
   "cell_type": "code",
   "execution_count": 31,
   "id": "d8d2c976-9a20-408b-a146-e48615cafb7b",
   "metadata": {},
   "outputs": [
    {
     "data": {
      "text/plain": [
       "sys.float_info(max=1.7976931348623157e+308, max_exp=1024, max_10_exp=308, min=2.2250738585072014e-308, min_exp=-1021, min_10_exp=-307, dig=15, mant_dig=53, epsilon=2.220446049250313e-16, radix=2, rounds=1)"
      ]
     },
     "execution_count": 31,
     "metadata": {},
     "output_type": "execute_result"
    }
   ],
   "source": [
    "sys.float_info"
   ]
  },
  {
   "cell_type": "code",
   "execution_count": 27,
   "id": "95ac143e-bbfd-4df0-ba19-0a7ff9b56a5a",
   "metadata": {},
   "outputs": [
    {
     "data": {
      "text/plain": [
       "'445698713258964746240.00'"
      ]
     },
     "execution_count": 27,
     "metadata": {},
     "output_type": "execute_result"
    }
   ],
   "source": [
    "'{:.2f}'.format(round(test_1, 2))"
   ]
  },
  {
   "cell_type": "code",
   "execution_count": null,
   "id": "d2bf6e93-abbf-4586-a503-18193bcd69c1",
   "metadata": {},
   "outputs": [],
   "source": []
  },
  {
   "cell_type": "code",
   "execution_count": 33,
   "id": "7525828b-0b0e-42f2-9fce-abadadcf638e",
   "metadata": {},
   "outputs": [],
   "source": [
    "names_list = [\"Justine\", \"Amabel\", \"Karl\", \"Anna\", \"Lina\", \"Sergei\", \"Magnus\", \"Aurora\"]"
   ]
  },
  {
   "cell_type": "code",
   "execution_count": 34,
   "id": "9530bfc6-d537-412a-8901-0e1c9ae657fe",
   "metadata": {},
   "outputs": [
    {
     "data": {
      "text/plain": [
       "True"
      ]
     },
     "execution_count": 34,
     "metadata": {},
     "output_type": "execute_result"
    }
   ],
   "source": [
    "names_list[1].startswith('A')"
   ]
  },
  {
   "cell_type": "code",
   "execution_count": 37,
   "id": "04a09c05-d4d4-450a-b5e4-41466e134b57",
   "metadata": {},
   "outputs": [
    {
     "name": "stdout",
     "output_type": "stream",
     "text": [
      "Justine does not start with A\n",
      "next iteration incoming...\n",
      "Amabel starts with A\n",
      "next iteration incoming...\n",
      "Karl does not start with A\n",
      "next iteration incoming...\n",
      "Anna starts with A\n",
      "next iteration incoming...\n",
      "Lina does not start with A\n",
      "next iteration incoming...\n",
      "Sergei does not start with A\n",
      "next iteration incoming...\n",
      "Magnus does not start with A\n",
      "next iteration incoming...\n",
      "Aurora starts with A\n",
      "goodbye\n"
     ]
    }
   ],
   "source": [
    "count = 0\n",
    "for name in names_list:\n",
    "    count += 1\n",
    "    if name.startswith('A'):\n",
    "        print(f'{name} starts with A')\n",
    "    else:\n",
    "        print(f'{name} does not start with A')\n",
    "    if count < len(names_list):\n",
    "        print('next iteration incoming...')\n",
    "    else:\n",
    "        print('goodbye')\n",
    "    "
   ]
  },
  {
   "cell_type": "code",
   "execution_count": null,
   "id": "e1d6ba22-20bc-4528-923a-a1751cf4f5b8",
   "metadata": {},
   "outputs": [],
   "source": []
  },
  {
   "cell_type": "code",
   "execution_count": null,
   "id": "43a606e9-3684-4abe-a15e-b5d43c9fa762",
   "metadata": {},
   "outputs": [],
   "source": []
  }
 ],
 "metadata": {
  "kernelspec": {
   "display_name": "Python 3 (ipykernel)",
   "language": "python",
   "name": "python3"
  },
  "language_info": {
   "codemirror_mode": {
    "name": "ipython",
    "version": 3
   },
   "file_extension": ".py",
   "mimetype": "text/x-python",
   "name": "python",
   "nbconvert_exporter": "python",
   "pygments_lexer": "ipython3",
   "version": "3.9.5"
  }
 },
 "nbformat": 4,
 "nbformat_minor": 5
}
